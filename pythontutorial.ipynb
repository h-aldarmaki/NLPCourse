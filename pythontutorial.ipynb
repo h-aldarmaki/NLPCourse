{
  "metadata": {
    "kernelspec": {
      "language": "python",
      "display_name": "Python 3",
      "name": "python3"
    },
    "language_info": {
      "name": "python",
      "version": "3.7.12",
      "mimetype": "text/x-python",
      "codemirror_mode": {
        "name": "ipython",
        "version": 3
      },
      "pygments_lexer": "ipython3",
      "nbconvert_exporter": "python",
      "file_extension": ".py"
    },
    "colab": {
      "name": "pythontutorial.ipynb",
      "provenance": [],
      "include_colab_link": true
    }
  },
  "nbformat_minor": 0,
  "nbformat": 4,
  "cells": [
    {
      "cell_type": "markdown",
      "metadata": {
        "id": "view-in-github",
        "colab_type": "text"
      },
      "source": [
        "<a href=\"https://colab.research.google.com/github/h-aldarmaki/NLPCourse/blob/main/pythontutorial.ipynb\" target=\"_parent\"><img src=\"https://colab.research.google.com/assets/colab-badge.svg\" alt=\"Open In Colab\"/></a>"
      ]
    },
    {
      "cell_type": "markdown",
      "source": [
        "# Python Tutorial\n",
        "\n",
        "Python is a high-level, interpreted, object-oriented language. You can find the source code and documentation in the official website: https://www.python.org\n",
        "\n",
        "In this tutorial, we will go over the basic syntax of Python, variables, operators, I/O, conditional statements, loops, data structures, functions, and modules. \n",
        "\n",
        "## 1. Basic Syntax\n",
        "\n",
        "You can write python code using any plain text editor. Python script files have the extention **.py** \n",
        "\n",
        "You do not need to compile python script, you can simply run it from your command-line interface using the command\n",
        "\n",
        "```python filename.py```\n",
        "\n",
        "The python interpreter will then execute the script line by line, and if there are errors in your code, execution will stop with a helpful error message. \n",
        "\n",
        "Let's try to run a Hello World script in python\n",
        "\n"
      ],
      "metadata": {
        "id": "oJOON-Le1lhX"
      }
    },
    {
      "cell_type": "code",
      "source": [
        " print(\"Hello World\")"
      ],
      "metadata": {
        "id": "IF86-cPw1atK",
        "execution": {
          "iopub.status.busy": "2022-03-23T06:08:05.480827Z",
          "iopub.execute_input": "2022-03-23T06:08:05.482152Z",
          "iopub.status.idle": "2022-03-23T06:08:05.511164Z",
          "shell.execute_reply.started": "2022-03-23T06:08:05.482005Z",
          "shell.execute_reply": "2022-03-23T06:08:05.509888Z"
        },
        "trusted": true
      },
      "execution_count": null,
      "outputs": []
    },
    {
      "cell_type": "markdown",
      "source": [
        "```print``` is a built-in function that simply prints the argument, followed by a new-line character. So, if we add another print statement, it will be printed in a new line "
      ],
      "metadata": {
        "id": "egRb-3PH7btC"
      }
    },
    {
      "cell_type": "code",
      "source": [
        "print(\"Hello World\")\n",
        "print(\"Bye!\") #print(\"Hello World\", end =\" \")\n",
        "print(\"Bye!\")"
      ],
      "metadata": {
        "id": "jvQi77UZ7bY5",
        "execution": {
          "iopub.status.busy": "2022-03-23T06:08:10.83881Z",
          "iopub.execute_input": "2022-03-23T06:08:10.83917Z",
          "iopub.status.idle": "2022-03-23T06:08:10.845029Z",
          "shell.execute_reply.started": "2022-03-23T06:08:10.839133Z",
          "shell.execute_reply": "2022-03-23T06:08:10.843925Z"
        },
        "trusted": true
      },
      "execution_count": null,
      "outputs": []
    },
    {
      "cell_type": "markdown",
      "source": [
        "Notice that python statemtns don't need to end with a semicolon ;\n",
        "Also, python does not use braces { } to indicate blocks of code. Instead, line indentation is used to indicate that statements form a block. If you randomly add initial spaces to your python commands, you will get an error!"
      ],
      "metadata": {
        "id": "2JA79Wnl8u_C"
      }
    },
    {
      "cell_type": "code",
      "source": [
        "print(\"Hello World\")\n",
        "    print(\"This will cause an error!\")           "
      ],
      "metadata": {
        "id": "9VtTE0SP8bwk"
      },
      "execution_count": null,
      "outputs": []
    },
    {
      "cell_type": "markdown",
      "source": [
        "### Strings\n",
        "\n",
        "You can use either single ' or double quote \" to denote strings. You can also use tripe quotes to denote strings that span multiple lines. "
      ],
      "metadata": {
        "id": "QoA3YyT0953s"
      }
    },
    {
      "cell_type": "code",
      "source": [
        "s1 = 'this is a string'\n",
        "s2 = \"this is also a string\"\n",
        "s3 = \"\"\"and this is a multi-line string.\n",
        "it has multiple lines. \"\"\"\n",
        "\n",
        "print(s3)"
      ],
      "metadata": {
        "id": "nzgk3cUN-XPS"
      },
      "execution_count": null,
      "outputs": []
    },
    {
      "cell_type": "markdown",
      "source": [
        "You can concatenate strings using the plus operator \n",
        "\n",
        "```s4 = s1 + s2 + s3```\n",
        "\n",
        "You can format a string using the % operator to specify variable types and format"
      ],
      "metadata": {
        "id": "hfnRABFnBkv4"
      }
    },
    {
      "cell_type": "code",
      "source": [
        "pi = 3.141592653589793 \n",
        "print(pi)\n",
        "print(\"the formatted value of %s is %.2f !\" % ('pi', pi))"
      ],
      "metadata": {
        "id": "2-jGolgPbjqn"
      },
      "execution_count": null,
      "outputs": []
    },
    {
      "cell_type": "markdown",
      "source": [
        "### Comments\n",
        "\n",
        "comments are denoted using the hash sign (#). All characters after # will be ignored.\n",
        "\n",
        "Triple quotes are also sometimes used for multi-line comments, since they will be ignored by the compiler. "
      ],
      "metadata": {
        "id": "wj9lxCAm_CKq"
      }
    },
    {
      "cell_type": "code",
      "source": [
        "#This is a comment\n",
        "print(\"Hello World\") #This is also a comments\n",
        "\n",
        "'''\n",
        "This string is useless.\n",
        "It doesn't affect the rest of the script.\n",
        "So you can treat it as a comment.\n",
        "'''\n",
        "\n",
        "print(\"Bye!\")"
      ],
      "metadata": {
        "id": "HmFcwX-j-cHW"
      },
      "execution_count": null,
      "outputs": []
    },
    {
      "cell_type": "markdown",
      "source": [
        "## 2. Variables\n",
        "\n",
        "In python, you can use an assignment statement to store a value in memory. You do not need to specify the type of the variable. The correct type will be inferred based on the right-hand side of the assignment statement. \n"
      ],
      "metadata": {
        "id": "Lhf_kAJdAOR4"
      }
    },
    {
      "cell_type": "code",
      "source": [
        "v1 = \"This is a string variable\"\n",
        "v2 = 3 #this is an int \n",
        "v3 = 2.5 #this is a float\n",
        "v4 = 3.14j  #this is a complex number!\n",
        "print(v2 + v3)\n",
        "v5 = v3 + v4 #this will also be a complex number ... \n",
        "print(v5)"
      ],
      "metadata": {
        "id": "HmlLTpu2AcZv"
      },
      "execution_count": null,
      "outputs": []
    },
    {
      "cell_type": "markdown",
      "source": [
        "## 3. Lists\n",
        "\n",
        "Lists are the simplest data structure in python. They are somewhat similar to arrays, but lists can have elements of different types. \n",
        "\n",
        "You can create a list by specifying items within square brackets [ ] separated by commas ,\n",
        "\n",
        "```list1 = ['this', 'is' , 'my', 'list', 1, 2, 3]```\n",
        "\n",
        "You can access individual list elements by specifying the list name and the index (starting with 0) within square brackets. You can also extract a range of elements by specifying the start and end indices, separate by a colon : \n",
        "\n",
        "Lists can be concatenated using the + operator\n",
        "\n",
        "\n"
      ],
      "metadata": {
        "id": "3wt-rDf9B44J"
      }
    },
    {
      "cell_type": "code",
      "source": [
        "list1 = [0,1,2,3,4,5,6,7,8,9]\n",
        "list2 = ['a','b','c','d','e','f','g']\n",
        "str1 = \"Hello World\"\n",
        "print(list1[2]) # access the third element\n",
        "print(list1[0:3]) # print the first 3 elements\n",
        "print(list2[5:]) # print the list from index 5 to the end\n",
        "\n",
        "#You can also use similar operators for strings to access substrings\n",
        "print(str1[6:])  #print the seventh character\n",
        "\n",
        "list3 = list2[3:] + list1[:3] #cocatenate lists\n",
        "print(list3)\n",
        "\n",
        "#update the value of an element in a list:\n",
        "list3[0] = 'new value'\n",
        "\n",
        "print(list3)\n",
        "\n",
        "list4 = str1.split() #split the string into list of words\n",
        "\n",
        "print(list4)\n",
        "\n",
        "list5 = list(str1)  #convert the string to a list of characters\n",
        "\n",
        "print(list5)"
      ],
      "metadata": {
        "id": "1LNCcNFSDXsA"
      },
      "execution_count": null,
      "outputs": []
    },
    {
      "cell_type": "markdown",
      "source": [
        "### List Methods\n",
        "\n",
        "You can add elements to a list using the ```append``` method:\n",
        "\n",
        "```list1.append('new element')```\n",
        "\n",
        "You can insert an element at a specific location using the ```insert``` method:\n",
        "\n",
        "```list1.insert(0, 'first element')```\n",
        "\n",
        "You can remove an element from a list using the ```del``` operator. For example, \n",
        "\n",
        "```del list1[2]```\n",
        "\n",
        "You can reverse the order of the elements using the method ```reverse()```. Keep in mind that this method will actually change the list rather than create a new one. \n",
        "\n"
      ],
      "metadata": {
        "id": "7v6wURnVcqa1"
      }
    },
    {
      "cell_type": "code",
      "source": [
        "list1=['hello', 'world']\n",
        "list1.append('new element')\n",
        "list1.insert(0, 'first element')\n",
        "del list1[2]  #deletes the element at index 2, which is 'world'\n",
        "print(list1)\n",
        "\n",
        "#reverse the elements of the list:\n",
        "list1.reverse()\n",
        "print(list1)"
      ],
      "metadata": {
        "id": "MeRA57zncpYI"
      },
      "execution_count": null,
      "outputs": []
    },
    {
      "cell_type": "markdown",
      "source": [
        "## 4. Tuples\n",
        "\n",
        "Tuples are similar to lists, but they cannot be updated after being assigned. So you can think of them as read-only lists. Elements in a tuple are specified within parantheses ( ) and seperated by commas. Accessing elements is similar to lists, you can simply specify the index within square brackets. \n",
        "\n"
      ],
      "metadata": {
        "id": "KKufO3O2GC-E"
      }
    },
    {
      "cell_type": "code",
      "source": [
        "t1 = ('a', 'b', 'c', 1, 2, 3)\n",
        "print(t1[0:3])\n",
        "\n",
        "#We cannot change the values in a tuple\n",
        "t1[0] = 'z'"
      ],
      "metadata": {
        "id": "3DDqKElJGlNL"
      },
      "execution_count": null,
      "outputs": []
    },
    {
      "cell_type": "markdown",
      "source": [
        "## 5. Dictionaries\n",
        "\n",
        "Python dictionaries are similar to hash tables. They consist of key-value pairs. Dictionaries are specified using curly braces { }, and elements can be accessed and modified by specifying the key within square brackets [key]\n",
        "\n",
        "For example,\n",
        "\n",
        "```\n",
        "d1 = {} \n",
        "d1['key1'] = 'value1'\n",
        "d1['key2'] = 'value2'\n",
        "```\n",
        "\n",
        "You can list the keys of a dictionary using the methid ```.keys()```\n",
        "\n",
        "For example, in the following code block, we will create a dictionary for words and their part-of-speech (noun, verb, or adjective). \n",
        "\n",
        "\n"
      ],
      "metadata": {
        "id": "19iCNZU5HEs9"
      }
    },
    {
      "cell_type": "code",
      "source": [
        "d1 = {}\n",
        "d1['happy'] = 'adj'\n",
        "d1['sad'] = 'adj'\n",
        "d1['holiday'] = 'noun'\n",
        "d1['cat'] = 'noun'\n",
        "d1['go'] = 'verb'\n",
        "d1['consider'] = 'verb'\n",
        "\n",
        "#print the dictionary\n",
        "print(d1) \n",
        "\n",
        "#access a specific element in the dictionary\n",
        "print('cat is a ' + d1['cat'])\n",
        "\n",
        "#check if a key exists in a dictionary\n",
        "print('happy' in d1)\n",
        "\n",
        "#delete an element of a dictionary\n",
        "del d1['happy']\n",
        "\n",
        "#get the keys of the dictionary\n",
        "print(d1.keys())"
      ],
      "metadata": {
        "id": "Gh0kiJN7IuXV"
      },
      "execution_count": null,
      "outputs": []
    },
    {
      "cell_type": "markdown",
      "source": [
        "## 6. Operators\n",
        "\n",
        "Arithmetic operators in python are similar to Java. We have addition (+), subtraction (-), multiplication (*), division(/) and mod (%). You can also use compound operators like += \n",
        "\n",
        "Relational operators for comparing vlues are also similar to Java (==, !=, <, >, <=, >=). \n",
        "\n",
        "Logical operators are as follows: \n",
        "\n",
        "* Logical AND: ```and```\n",
        "* Logical OR  :   ```or ```\n",
        "* Logical NOT: ```not```\n",
        "\n",
        "There are also membership operators (```in```, ```not in```) to check if an element exists in a list\n",
        "\n",
        "## 7. Conditional Statements\n",
        "\n",
        " ```if``` statements in python consist of a boolean expression followed by one or more statements. The boolean expression has to be terminated with a colon :\n",
        "\n",
        "Note that unlike Java, we do not specify blocks using braces. Instead, all statements within a block should have the same indentation\n",
        "\n",
        "\n"
      ],
      "metadata": {
        "id": "VDNRPj56Voqq"
      }
    },
    {
      "cell_type": "code",
      "source": [
        "a = 0\n",
        "b = 10\n",
        "\n",
        "if a < b and a > 0:\n",
        "  print(\"first condition is true\")\n",
        "elif a < b:\n",
        "  print(\"second condition is true\")\n",
        "  print(\"This is another statement in the same block\")\n",
        "else:\n",
        "  print(\"false\")\n",
        "  print(\"this statement is part of the else block\")\n",
        "print(\"Bye\") #this statement will be executed no matter what\n"
      ],
      "metadata": {
        "id": "JIU3mxb5XPZu"
      },
      "execution_count": null,
      "outputs": []
    },
    {
      "cell_type": "markdown",
      "source": [
        "## 8. Loops\n",
        "\n",
        "You can use ```while``` loops to specify a condition. For example, the following code prints the numbers 1 to 10\n",
        "\n",
        "```\n",
        "i=1\n",
        "while i<=10:\n",
        "  print(i)\n",
        "  i+=1\n",
        "```\n",
        "\n",
        "You can also conviently loop through elements in a list using a ```for``` loop. For example, the following two loops are equivalent:"
      ],
      "metadata": {
        "id": "ZcP1ALZrZUzt"
      }
    },
    {
      "cell_type": "code",
      "source": [
        "print(\"using a while loop:\")\n",
        "i=0\n",
        "while i<len(list5):\n",
        "  print(list5[i])\n",
        "  i+=1\n",
        "\n",
        "#OR\n",
        "print(\"using a for loop:\")\n",
        "for ch in list5:\n",
        "  print(ch)\n"
      ],
      "metadata": {
        "id": "f0Ib5LKtZiEm"
      },
      "execution_count": null,
      "outputs": []
    },
    {
      "cell_type": "markdown",
      "source": [
        "## 9. Functions:\n",
        "\n",
        "You can write python functions using the keyword ```def```\n",
        "\n",
        "```\n",
        "def functionName(arguments):\n",
        "    statements\n",
        "```\n",
        "\n",
        "You can call the function anywhere, but only after creating it. You can call functions within other functions defined anywhere in the script. "
      ],
      "metadata": {
        "id": "I2Ra1ooiez5b"
      }
    },
    {
      "cell_type": "code",
      "source": [
        "#fun2() #this will raise an error. We can call the function only after creating it. \n",
        "\n",
        "def fun1(arg1, arg2):\n",
        "  print(\"In fun1\")\n",
        "  fun2() #we can call fun2() even though it's defined afterwards\n",
        "  return arg1+arg2\n",
        "\n",
        "def fun2():\n",
        "  print(\"In fun2\")\n",
        "\n",
        "#calling fun1\n",
        "x=fun1(2,3)\n",
        "print(x)"
      ],
      "metadata": {
        "id": "swGQNqwfe-R7"
      },
      "execution_count": null,
      "outputs": []
    },
    {
      "cell_type": "markdown",
      "source": [
        "## 10. I/O\n",
        "\n",
        "You already know how to print strings to the screen using the ```print()``` function. You can read user input using the ```input()``` function as follows:\n",
        "\n",
        "```in1 = input(\"Please enter a value: \")```\n",
        "\n",
        "The value entered will be stored in the variable ```in1``` as a string. If you want it to be a number, you will need to convert it using the ```int()``` or ```float()``` functions\n",
        " "
      ],
      "metadata": {
        "id": "RpkoUJjMe-3F"
      }
    },
    {
      "cell_type": "code",
      "source": [
        "in1 = input(\"Please enter an integer value: \")\n",
        "x=int(in1)\n",
        "\n",
        "in1 = input(\"Please enter a float value: \")\n",
        "y= float(in1)\n",
        "\n",
        "print(x + y)"
      ],
      "metadata": {
        "id": "bTp0ZmZqfg76"
      },
      "execution_count": null,
      "outputs": []
    },
    {
      "cell_type": "markdown",
      "source": [
        "### File I/O\n",
        "\n",
        "To read or write to a file, you need to create a File object. For example,\n",
        "\n",
        "```fo = open('myfile.txt', 'w')```\n",
        "\n",
        "The above statement opens the file ```myfile.txt``` for writing. The object ```fo``` can now be used to handle the file. You can write strings to the file, then close it when you are done. \n",
        "\n",
        "Run the following code, then inspect the file. "
      ],
      "metadata": {
        "id": "3uOagi0OSjoP"
      }
    },
    {
      "cell_type": "code",
      "source": [
        "fo = open(\"myfile.txt\", 'w') #open the file myfile.txt in write mode 'w'\n",
        "fo.write(\"Hello World\\n\") #write strings to the file\n",
        "fo.write(\"10\")\n",
        "fo.close() #close the file"
      ],
      "metadata": {
        "id": "AZAypyy9TT8p"
      },
      "execution_count": null,
      "outputs": []
    },
    {
      "cell_type": "markdown",
      "source": [
        "Next, we will open the file we just create it, and read its content. \n",
        "\n"
      ],
      "metadata": {
        "id": "cpIUl7kbUlIN"
      }
    },
    {
      "cell_type": "code",
      "source": [
        "fo = open(\"myfile.txt\", 'r')\n",
        "str1= fo.readline()\n",
        "print(str1) # Note that this includes the trailing \\n character\n",
        "str2= fo.readline()\n",
        "x = int(str2)\n",
        "print(x)\n",
        "fo.close()\n",
        "\n",
        "#Alternatively\n",
        "\n",
        "print(\"\\n\\nUsing 'with' and 'read()': \\n\")\n",
        "\n",
        "with open(\"myfile.txt\", 'r') as f:\n",
        "  str2 = f.read() #reads the whole file at once\n",
        "#The file will be automatically closed\n",
        "\n",
        "print(str2)"
      ],
      "metadata": {
        "id": "VzzHb5ZmUq-1"
      },
      "execution_count": null,
      "outputs": []
    },
    {
      "cell_type": "markdown",
      "source": [
        "## 11. Import"
      ],
      "metadata": {
        "id": "he405B7qfhaa"
      }
    },
    {
      "cell_type": "markdown",
      "source": [
        "You can import python classes and functions implemented elsewhere. There are many python packages that can be installed and used in your code using the ```import``` statement. For example, we can import the package ```numpy``` which includes basic and advanced mathematical operations. \n",
        "\n",
        "\n"
      ],
      "metadata": {
        "id": "r6-Ni4d1fmoR"
      }
    },
    {
      "cell_type": "code",
      "source": [
        "import numpy\n",
        "\n",
        "print(numpy.power(2,3)) #calculate the power 2^3\n",
        "\n",
        "print(numpy.log2(8)) #calculate the log (base 2) of 8"
      ],
      "metadata": {
        "id": "DBycLppvfmLd"
      },
      "execution_count": null,
      "outputs": []
    },
    {
      "cell_type": "markdown",
      "source": [
        "You can also import specific functions from a package"
      ],
      "metadata": {
        "id": "NPgd2_LXXuUt"
      }
    },
    {
      "cell_type": "code",
      "source": [
        "from numpy import power, log2\n",
        "\n",
        "print(power(2,5)) \n",
        "\n",
        "print(log2(128))"
      ],
      "metadata": {
        "id": "pcgAjTZIXyxZ"
      },
      "execution_count": null,
      "outputs": []
    },
    {
      "cell_type": "markdown",
      "source": [
        "## 12. Classes\n",
        "\n",
        "Python is an object-otiented language. While you do not always need to create classes, it is relatively easy to do so. \n",
        "\n",
        "```\n",
        "class yourClassName:\n",
        "    'optional documentation string'\n",
        "    #class variables and methods here\n",
        "```\n",
        "\n",
        "member variables are referenced using the keyword 'self' which is equivalent to 'this' in Java. You do not need to declare the member variables in python, you can create them anywhere in the class using ```self.varName```.\n",
        "\n",
        "Also, you need to specify ```self``` as the first parameter in all method definitions. "
      ],
      "metadata": {
        "id": "nsOvUwzefpFM"
      }
    },
    {
      "cell_type": "code",
      "source": [
        "class BankAccount:\n",
        "  'Simple class for a bank account'\n",
        "  count = 0 # this is a class variable (static) that can be accessed using BankAccoutn.count\n",
        "\n",
        "  #constructor.\n",
        "  def __init__(self, accName, accBalance):\n",
        "    self.accName = accName\n",
        "    self.balance = accBalance\n",
        "    BankAccount.count += 1\n",
        "\n",
        "  def withdraw(self, amount):\n",
        "    if (self.balance > amount):\n",
        "      balance -= amount\n",
        "    else:\n",
        "      print(\"insufficient funds\")\n",
        "  \n",
        "  def deposit(self, amount):\n",
        "    self.balance += amount\n",
        "\n",
        "\n",
        "#create objects of type BankAccount\n",
        "\n",
        "b1 = BankAccount(\"client1\", 1000)\n",
        "\n",
        "b1.deposit(1000)\n",
        "\n",
        "print(b1.balance)\n",
        "\n",
        "print(\"Total number of bank accounts created is %d\" %(BankAccount.count))\n",
        "\n",
        "    "
      ],
      "metadata": {
        "id": "AEeiQhZKZmbs"
      },
      "execution_count": null,
      "outputs": []
    },
    {
      "cell_type": "code",
      "source": [
        "b2 = BankAccount(\"client2\", 0)\n",
        "\n",
        "b2.withdraw(1000)\n",
        "\n",
        "print(b2.balance)\n",
        "\n",
        "print(\"Total number of bank accounts created is %d\" %(BankAccount.count))\n"
      ],
      "metadata": {
        "id": "smZ4fxWYbrhy"
      },
      "execution_count": null,
      "outputs": []
    }
  ]
}