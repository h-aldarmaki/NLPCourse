{
  "nbformat": 4,
  "nbformat_minor": 0,
  "metadata": {
    "colab": {
      "name": "Eliza.ipynb",
      "provenance": [],
      "collapsed_sections": [],
      "authorship_tag": "ABX9TyNPKm7wjSmtuNUTJbVl29Qa",
      "include_colab_link": true
    },
    "kernelspec": {
      "name": "python3",
      "display_name": "Python 3"
    },
    "language_info": {
      "name": "python"
    }
  },
  "cells": [
    {
      "cell_type": "markdown",
      "metadata": {
        "id": "view-in-github",
        "colab_type": "text"
      },
      "source": [
        "<a href=\"https://colab.research.google.com/github/h-aldarmaki/NLPCourse/blob/main/Eliza.ipynb\" target=\"_parent\"><img src=\"https://colab.research.google.com/assets/colab-badge.svg\" alt=\"Open In Colab\"/></a>"
      ]
    },
    {
      "cell_type": "markdown",
      "metadata": {
        "id": "fbnzpTifocRa"
      },
      "source": [
        "# Class Project 1: ELIZA\n",
        "\n",
        "In this project, we will create a simple chatbot based on **ELIZA**, a chatbot built entirely using regular expressions and subsitutions. ELIZA represents a psychotherapist following a person-centered therapy model developed by Carl Rogers. In this model, we don't need to know much about the world to have a coversation. Here is a sample conversation we would like to mimic:\n",
        "\n",
        "\n",
        "```\n",
        "User : I am unhappy. \n",
        "ELIZA: DO YOU THINK COMING HERE WILL HELP YOU NOT TO BE UNHAPPY\n",
        "User : I need some help, that much seems certain.\n",
        "ELIZA: WHAT WOULD IT MEAN TO YOU IF YOU GOT SOME HELP\n",
        "User : Perhaps I could learn to get along with my mother.\n",
        "ELIZA: TELL ME MORE ABOUT YOUR FAMILY\n",
        "User : My mother takes care of me.\n",
        "ELIZA: WHO ELSE IN YOU FAMILY TAKES CARE OF YOU\n",
        "User : My father.\n",
        "ELIZA: YOUR FATHER\n",
        "User : You are like my father in some ways\n",
        "\n",
        "```\n",
        "\n",
        "Below, you will find my attempt for building Eliza from scratch. I incorporated some basic pattern matching and substitution. You can play with it and see how it fails. Then try to improve it as much as you can. \n",
        "\n",
        "##PART 1\n",
        "\n",
        "1. Modify the code below to handle statements about family. For example, you may search for patterns that match (mother, father, family). The response can be something like \"TELL ME MORE ABOUT YOUR FAMILY\"\n",
        "2. Add statements to process and respond to greetings, like \"HOW ARE YOU?\" and \"THANK YOU\"\n",
        "3. Add statements to process and respond to general statements about ELIZA, like \"DO YOU LIKE SUSHI?\" The response can be something like \"THIS IS NOT ABOUT ME\"\n",
        "\n",
        "\n",
        "\n",
        "##PART 2\n",
        "\n",
        "\n",
        "In addition to simple substitution, you can select a response from alternatives to make the conversation more convincing. You may find the following example useful:\n",
        "\n",
        "```\n",
        " a = re.search(r'.*YOU ARE(.*)', s)\n",
        " ans_1='WHY DO YOU THINK YOU ARE'+ a.group(1)+'?'\n",
        " ans_2='WHAT MAKES YOU'+a.group(1)+'?'\n",
        " print(random.choice([ans_1,ans_2]))\n",
        "\n",
        "```\n",
        "\n",
        "1. Add alternative greetings (hello and goodbye phrases)\n",
        "2. Add alternative generic messages <br>\n",
        " >>\"INTERESTING\"<br>\n",
        "  \"I SEE\"<br>\n",
        "  \"GO ON\"\n",
        "3. Add alternative ways to handle statements that include questions about ELIZA. <br>\n",
        ">>\"THIS IS NOT ABOUT ME\"  <br>\n",
        "\"ARE WE TALKING ABOUT ME'  <br>\n",
        "\"TELL ME ABOUT YOURSELF INSTEAD'\n",
        "4. Try to replicate the conversation sample shown at the beginning of this exercise. Add more patterns to make it better and less likely to fail. \n",
        "\n",
        "\n",
        "\n"
      ]
    },
    {
      "cell_type": "code",
      "metadata": {
        "id": "38pO9jqm6c7n",
        "colab": {
          "base_uri": "https://localhost:8080/"
        },
        "outputId": "fcf9b8f3-0990-4e10-d9aa-3b6a2cd73487"
      },
      "source": [
        "import re\n",
        "import random\n",
        "\n",
        "\n",
        "#The main fucntion\n",
        "def main():\n",
        " #let's start with a greeting\n",
        " print(\"ELIZA: HELLO.  HOW ARE YOU FEELING TODAY?\")\n",
        " input_string=\"\"\n",
        " while input_string != \"QUIT\":\n",
        "   input_string = input(\">> \")\n",
        "   #To simplify things, convert everything to CAPS\n",
        "   input_string = input_string.upper()\n",
        "   if input_string != \"QUIT\":\n",
        "     respond(input_string)\n",
        "\n",
        "#this is where we process the input and generate a response\n",
        "def respond(s):\n",
        "  s = re.sub(r'\\b(I|ME)\\b',  'YOU',    s) \n",
        "  s = re.sub(r'\\b(AM)\\b',  'ARE',    s) \n",
        "  s = re.sub(r'\\b(MY)\\b',  'YOUR',    s) \n",
        "  \n",
        "  n=0; #let's keep track of substitutions made using subn\n",
        "  s,n = re.subn(r'.*\\bYOU ARE (DEPRESSED|SAD|UNHAPPY)\\b.*', r'I AM SORRY TO HEAR YOU ARE \\1', s)\n",
        "  if n==0:\n",
        "    s,n = re.subn(r'.*\\bALL\\b.*', 'IN WHAT WAY?',s)\n",
        "  if n==0:\n",
        "    s,n = re.subn(r'.*\\bALWAYS\\b.*', 'CAN YOU THINK OF A SPECIFIC EXAMPLE?',s)\n",
        "  if n==0:\n",
        "    s,n = re.subn(r'.*\\bNOT\\b..*','WHY NOT?',s)\n",
        "  if n==0:\n",
        "    s,n = re.subn(r'.*\\bYES\\b.*', 'I SEE', s)\n",
        "  if n==0:\n",
        "    s,n = re.subn(r'^FINE$', 'NICE TO HEAR THAT', s)\n",
        "  if n==0:\n",
        "  #if everything fails, type a generic message\n",
        "    s = 'INTERESTING'\n",
        "  print(s)\n",
        "\n",
        "if __name__ == '__main__':\n",
        "    main()\n",
        "\n",
        "#II Make conversations that break your code. Can you improve it? Is it possible to fix it using Regular expressions? \n"
      ],
      "execution_count": null,
      "outputs": [
        {
          "name": "stdout",
          "output_type": "stream",
          "text": [
            "ELIZA: HELLO.  HOW ARE YOU FEELING TODAY?\n",
            ">> fine\n",
            "NICE TO HEAR THAT\n",
            ">> quit\n"
          ]
        }
      ]
    }
  ]
}